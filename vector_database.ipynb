{
  "nbformat": 4,
  "nbformat_minor": 0,
  "metadata": {
    "colab": {
      "provenance": [],
      "authorship_tag": "ABX9TyNFFeM5Hw+TK+6DTrjc2339",
      "include_colab_link": true
    },
    "kernelspec": {
      "name": "python3",
      "display_name": "Python 3"
    },
    "language_info": {
      "name": "python"
    }
  },
  "cells": [
    {
      "cell_type": "markdown",
      "metadata": {
        "id": "view-in-github",
        "colab_type": "text"
      },
      "source": [
        "<a href=\"https://colab.research.google.com/github/srpantano/RAG-1/blob/main/vector_database.ipynb\" target=\"_parent\"><img src=\"https://colab.research.google.com/assets/colab-badge.svg\" alt=\"Open In Colab\"/></a>"
      ]
    },
    {
      "cell_type": "code",
      "source": [
        "pip install -qU langchain-community pypdf"
      ],
      "metadata": {
        "id": "5JNwei0YB23f"
      },
      "execution_count": null,
      "outputs": []
    },
    {
      "cell_type": "code",
      "execution_count": null,
      "metadata": {
        "id": "6pHF1zFkBQdI"
      },
      "outputs": [],
      "source": [
        "from langchain_community.document_loaders import PyPDFDirectoryLoader\n",
        "from langchain.text_splitter import RecursiveCharacterTextSplitter"
      ]
    },
    {
      "cell_type": "code",
      "source": [
        "file_path = \"/content/pdfs/\""
      ],
      "metadata": {
        "id": "BgBM0CSQHFQv"
      },
      "execution_count": null,
      "outputs": []
    },
    {
      "cell_type": "markdown",
      "source": [
        "Read all the PDFs in the directory"
      ],
      "metadata": {
        "id": "ZUlCYjhTLm6u"
      }
    },
    {
      "cell_type": "code",
      "source": [
        "loader = PyPDFDirectoryLoader(file_path)\n",
        "docs = loader.load()"
      ],
      "metadata": {
        "id": "JGMr7FJBBh2o"
      },
      "execution_count": null,
      "outputs": []
    },
    {
      "cell_type": "markdown",
      "source": [
        "Split the documents. This can be useful because some LLMs has a tokens limits.<br/>The number of chunk size and overlap needs to be adjust for performance.<br/>Overlapping context mantains the context."
      ],
      "metadata": {
        "id": "KUvm8s1rL363"
      }
    },
    {
      "cell_type": "code",
      "source": [
        "text_splitter = RecursiveCharacterTextSplitter(\n",
        "  chunk_size=1000,\n",
        "  chunk_overlap=100,\n",
        "  separators=[\"\\n\\n\", \"\\n\", \" \", \"\"]\n",
        ")\n",
        "\n",
        "all_splits = []\n",
        "for doc in docs:\n",
        "    splits = text_splitter.split_documents([doc])\n",
        "    all_splits.extend(splits)"
      ],
      "metadata": {
        "id": "E3dqPRAcLfYw"
      },
      "execution_count": null,
      "outputs": []
    },
    {
      "cell_type": "code",
      "source": [
        "all_splits[0]"
      ],
      "metadata": {
        "colab": {
          "base_uri": "https://localhost:8080/"
        },
        "id": "nTk_dB9PNkg-",
        "outputId": "7d0654b8-2891-4bfa-dcfd-c8da4c369eb7"
      },
      "execution_count": null,
      "outputs": [
        {
          "output_type": "execute_result",
          "data": {
            "text/plain": [
              "Document(metadata={'producer': 'Adobe PDF Library 17.0', 'creator': 'Adobe InDesign 18.0 (Windows)', 'creationdate': '2023-08-07T23:50:52-03:00', 'moddate': '2023-08-07T23:51:30-03:00', 'trapped': '/False', 'source': '/content/pdfs/Unidade3.pdf', 'total_pages': 34, 'page': 0, 'page_label': '1'}, page_content='Conteudista\\nProf.ª Dra. Vilma Lima\\nRevisão Textual\\nNatalia Lotz Mendes\\nRevisão Técnica\\nProf.ª M.ª Elaine Barreto Batista\\nEscolha do Negócio e Definição  \\ndo Mercado Alvo')"
            ]
          },
          "metadata": {},
          "execution_count": 9
        }
      ]
    },
    {
      "cell_type": "code",
      "source": [
        "%pip install -qU chromadb"
      ],
      "metadata": {
        "id": "8_wNK1PAX822"
      },
      "execution_count": null,
      "outputs": []
    },
    {
      "cell_type": "code",
      "source": [
        "from langchain.embeddings import HuggingFaceEmbeddings\n",
        "\n",
        "embeddings = HuggingFaceEmbeddings(model_name=\"jinaai/jina-embeddings-v3\",\n",
        "                                   model_kwargs={\"trust_remote_code\": True})\n"
      ],
      "metadata": {
        "id": "eOb_wW8hS01w"
      },
      "execution_count": null,
      "outputs": []
    },
    {
      "cell_type": "code",
      "source": [
        "from langchain.vectorstores import Chroma\n",
        "\n",
        "vectorstore = Chroma.from_documents(documents=all_splits, embedding=embeddings,\n",
        "                                    persist_directory=\"/content/vectorized_data/chroma_db\")"
      ],
      "metadata": {
        "id": "gvBN3sGkQegR"
      },
      "execution_count": null,
      "outputs": []
    },
    {
      "cell_type": "code",
      "source": [
        "%pip install -qU langchain-groq"
      ],
      "metadata": {
        "colab": {
          "base_uri": "https://localhost:8080/"
        },
        "id": "5aI7axeUjx56",
        "outputId": "bb608199-6d0a-4c35-cb44-d240faf5ce0b"
      },
      "execution_count": null,
      "outputs": [
        {
          "output_type": "stream",
          "name": "stdout",
          "text": [
            "\u001b[?25l   \u001b[90m━━━━━━━━━━━━━━━━━━━━━━━━━━━━━━━━━━━━━━━━\u001b[0m \u001b[32m0.0/121.9 kB\u001b[0m \u001b[31m?\u001b[0m eta \u001b[36m-:--:--\u001b[0m\r\u001b[2K   \u001b[90m━━━━━━━━━━━━━━━━━━━━━━━━━━━━━━━━━━━━━━━━\u001b[0m \u001b[32m121.9/121.9 kB\u001b[0m \u001b[31m4.3 MB/s\u001b[0m eta \u001b[36m0:00:00\u001b[0m\n",
            "\u001b[?25h"
          ]
        }
      ]
    },
    {
      "cell_type": "code",
      "source": [
        "from google.colab import userdata\n",
        "import os\n",
        "\n",
        "os.environ[\"GROQ_API_KEY\"] = userdata.get('Groq')"
      ],
      "metadata": {
        "id": "DEx2Yxv4k3ZH"
      },
      "execution_count": null,
      "outputs": []
    },
    {
      "cell_type": "code",
      "source": [
        "from langchain_groq import ChatGroq\n",
        "\n",
        "llm = ChatGroq(\n",
        "    model=\"mixtral-8x7b-32768\",\n",
        "    temperature=1\n",
        ")"
      ],
      "metadata": {
        "id": "GcKH1ReWd2WA"
      },
      "execution_count": null,
      "outputs": []
    },
    {
      "cell_type": "code",
      "source": [],
      "metadata": {
        "id": "uPIVRe9HmwC5"
      },
      "execution_count": null,
      "outputs": []
    },
    {
      "cell_type": "code",
      "source": [
        "from langchain_core.prompts import ChatPromptTemplate\n",
        "\n",
        "user_question = \"Fale-me sobre marcas e patentes no Brasil.\"\n",
        "\n",
        "results = vectorstore.similarity_search(query=user_question, k=5)\n",
        "\n",
        "context = \"\\n\".join([doc.page_content for doc in results])\n",
        "\n",
        "prompt = ChatPromptTemplate.from_messages(\n",
        "    [\n",
        "        (\n",
        "            \"system\",\n",
        "            \"Você é um assistente que responde perguntas sobre {subject}.\\n\\n\"\n",
        "            \"Use APENAS o contexto abaixo para responder. Se a resposta não estiver, \"\n",
        "            \"no contexto, diga: 'Desculpe, não sei como ajudar com isso.'\\n\\n\"\n",
        "            \"Contexto:\\n{context}\\n\"\n",
        "        ),\n",
        "        (\"human\", \"{input}\"),\n",
        "    ]\n",
        ")\n",
        "\n",
        "chain = prompt | llm\n",
        "\n",
        "response = chain.invoke(\n",
        "    {\n",
        "        \"subject\": \"empreendedorismo\",\n",
        "        \"context\": context,\n",
        "        \"input\": user_question,\n",
        "    }\n",
        ")\n",
        "\n",
        "print(response)"
      ],
      "metadata": {
        "colab": {
          "base_uri": "https://localhost:8080/"
        },
        "id": "ClrbhsiEkmYd",
        "outputId": "bfd833eb-fef5-4414-d2d6-5526410b84a9"
      },
      "execution_count": null,
      "outputs": [
        {
          "output_type": "stream",
          "name": "stdout",
          "text": [
            "content='Em termos gerais, uma marca é um sinal distintivo, visualmente perceptível, que identifica e distingue produtos e serviços de outros análogos, de procedência diversa. Ela é um conceito intangível e complexo, que pode ser definido como uma promessa, uma totalidade de percepções, uma posição diferenciadora nas mentes dos consumidores e um conjunto de atributos, benefícios, convicções e valores que diferenciam e simplificam o processo decisório. No Brasil, as marcas têm prazo de validade de dez anos, contados a partir da data de concessão, podendo ser prorrogado por períodos iguais e sucessivos.\\n\\nAntes de registrar uma marca no Brasil, é importante realizar uma pesquisa na Junta Comercial e no Cartório para verificar se o nome desejado já está em uso por outra empresa. O registro da marca é feito no Instituto Nacional de Propriedade Industrial (Inpi), e garante ao seu proprietário o direito de exclusividade. Existem diferentes tipos de marca, como marca denominativa, marca figurativa, marca tridimensional, marca coletiva e marca de certificação, entre outros.\\n\\nUma patente, por outro lado, é um título de propriedade temporária sobre uma invenção ou modelo de utilidade, outorgado pelo Estado aos inventores ou autores ou outras pessoas físicas ou jurídicas detentoras de direitos sobre a criação. No Brasil, o pedido de patente deve ser efetuado no Inpi, e a invenção deve ser nova, resultado de atividade inventiva e susceptível de aplicação industrial. A patente tem um prazo de validade de 20 anos a contar da data de deposição da solicitação e não é renovável.\\n\\nEm resumo, as marcas e patentes são instrumentos importantes para a proteção da propriedade intelectual no Brasil, e é essencial entender as diferenças entre eles para garantir a proteção adequada dos direitos de propriedade intelectual de uma empresa.' additional_kwargs={} response_metadata={'token_usage': {'completion_tokens': 537, 'prompt_tokens': 1600, 'total_tokens': 2137, 'completion_time': 0.83522577, 'prompt_time': 0.093797953, 'queue_time': 0.10863059800000001, 'total_time': 0.929023723}, 'model_name': 'mixtral-8x7b-32768', 'system_fingerprint': 'fp_c5f20b5bb1', 'finish_reason': 'stop', 'logprobs': None} id='run-5bf50e7a-3c7a-4fd1-9f96-b2feab4dc9f8-0' usage_metadata={'input_tokens': 1600, 'output_tokens': 537, 'total_tokens': 2137}\n"
          ]
        }
      ]
    },
    {
      "cell_type": "code",
      "source": [
        "response.content"
      ],
      "metadata": {
        "colab": {
          "base_uri": "https://localhost:8080/",
          "height": 122
        },
        "id": "76baZo9opdMK",
        "outputId": "cfdf1af2-733c-484b-838a-d28e1e5fa6fe"
      },
      "execution_count": null,
      "outputs": [
        {
          "output_type": "execute_result",
          "data": {
            "text/plain": [
              "'Em termos gerais, uma marca é um sinal distintivo, visualmente perceptível, que identifica e distingue produtos e serviços de outros análogos, de procedência diversa. Ela é um conceito intangível e complexo, que pode ser definido como uma promessa, uma totalidade de percepções, uma posição diferenciadora nas mentes dos consumidores e um conjunto de atributos, benefícios, convicções e valores que diferenciam e simplificam o processo decisório. No Brasil, as marcas têm prazo de validade de dez anos, contados a partir da data de concessão, podendo ser prorrogado por períodos iguais e sucessivos.\\n\\nAntes de registrar uma marca no Brasil, é importante realizar uma pesquisa na Junta Comercial e no Cartório para verificar se o nome desejado já está em uso por outra empresa. O registro da marca é feito no Instituto Nacional de Propriedade Industrial (Inpi), e garante ao seu proprietário o direito de exclusividade. Existem diferentes tipos de marca, como marca denominativa, marca figurativa, marca tridimensional, marca coletiva e marca de certificação, entre outros.\\n\\nUma patente, por outro lado, é um título de propriedade temporária sobre uma invenção ou modelo de utilidade, outorgado pelo Estado aos inventores ou autores ou outras pessoas físicas ou jurídicas detentoras de direitos sobre a criação. No Brasil, o pedido de patente deve ser efetuado no Inpi, e a invenção deve ser nova, resultado de atividade inventiva e susceptível de aplicação industrial. A patente tem um prazo de validade de 20 anos a contar da data de deposição da solicitação e não é renovável.\\n\\nEm resumo, as marcas e patentes são instrumentos importantes para a proteção da propriedade intelectual no Brasil, e é essencial entender as diferenças entre eles para garantir a proteção adequada dos direitos de propriedade intelectual de uma empresa.'"
            ],
            "application/vnd.google.colaboratory.intrinsic+json": {
              "type": "string"
            }
          },
          "metadata": {},
          "execution_count": 36
        }
      ]
    },
    {
      "cell_type": "code",
      "source": [
        "response.response_metadata"
      ],
      "metadata": {
        "colab": {
          "base_uri": "https://localhost:8080/"
        },
        "id": "Hoy5RrZlqMRw",
        "outputId": "0be0ff6f-0159-4a27-9999-4a3708c30172"
      },
      "execution_count": null,
      "outputs": [
        {
          "output_type": "execute_result",
          "data": {
            "text/plain": [
              "{'token_usage': {'completion_tokens': 537,\n",
              "  'prompt_tokens': 1600,\n",
              "  'total_tokens': 2137,\n",
              "  'completion_time': 0.83522577,\n",
              "  'prompt_time': 0.093797953,\n",
              "  'queue_time': 0.10863059800000001,\n",
              "  'total_time': 0.929023723},\n",
              " 'model_name': 'mixtral-8x7b-32768',\n",
              " 'system_fingerprint': 'fp_c5f20b5bb1',\n",
              " 'finish_reason': 'stop',\n",
              " 'logprobs': None}"
            ]
          },
          "metadata": {},
          "execution_count": 37
        }
      ]
    },
    {
      "cell_type": "code",
      "source": [
        "response.pretty_print()"
      ],
      "metadata": {
        "colab": {
          "base_uri": "https://localhost:8080/"
        },
        "id": "WZuLwKlcqaYN",
        "outputId": "c0d216f0-4cfa-43cd-ff3a-5ee485e1e8dc"
      },
      "execution_count": null,
      "outputs": [
        {
          "output_type": "stream",
          "name": "stdout",
          "text": [
            "==================================\u001b[1m Ai Message \u001b[0m==================================\n",
            "\n",
            "Em termos gerais, uma marca é um sinal distintivo, visualmente perceptível, que identifica e distingue produtos e serviços de outros análogos, de procedência diversa. Ela é um conceito intangível e complexo, que pode ser definido como uma promessa, uma totalidade de percepções, uma posição diferenciadora nas mentes dos consumidores e um conjunto de atributos, benefícios, convicções e valores que diferenciam e simplificam o processo decisório. No Brasil, as marcas têm prazo de validade de dez anos, contados a partir da data de concessão, podendo ser prorrogado por períodos iguais e sucessivos.\n",
            "\n",
            "Antes de registrar uma marca no Brasil, é importante realizar uma pesquisa na Junta Comercial e no Cartório para verificar se o nome desejado já está em uso por outra empresa. O registro da marca é feito no Instituto Nacional de Propriedade Industrial (Inpi), e garante ao seu proprietário o direito de exclusividade. Existem diferentes tipos de marca, como marca denominativa, marca figurativa, marca tridimensional, marca coletiva e marca de certificação, entre outros.\n",
            "\n",
            "Uma patente, por outro lado, é um título de propriedade temporária sobre uma invenção ou modelo de utilidade, outorgado pelo Estado aos inventores ou autores ou outras pessoas físicas ou jurídicas detentoras de direitos sobre a criação. No Brasil, o pedido de patente deve ser efetuado no Inpi, e a invenção deve ser nova, resultado de atividade inventiva e susceptível de aplicação industrial. A patente tem um prazo de validade de 20 anos a contar da data de deposição da solicitação e não é renovável.\n",
            "\n",
            "Em resumo, as marcas e patentes são instrumentos importantes para a proteção da propriedade intelectual no Brasil, e é essencial entender as diferenças entre eles para garantir a proteção adequada dos direitos de propriedade intelectual de uma empresa.\n"
          ]
        }
      ]
    },
    {
      "cell_type": "code",
      "source": [],
      "metadata": {
        "id": "JzXuw3q1qfpB"
      },
      "execution_count": null,
      "outputs": []
    }
  ]
}